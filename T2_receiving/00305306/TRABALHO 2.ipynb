{
 "cells": [
  {
   "cell_type": "markdown",
   "metadata": {},
   "source": [
    "# Universidade Federal do Rio Grande do Sul (UFRGS)\n",
    "# Programa de Pós-Graduação em Engenharia Civil (PPGEC) \n",
    "## PEC00025: Introdução à teoria de vibrações\n",
    "### Aluno: Yuri Claudio Vieira da Costa - 305306\n",
    "#### RESPOSTA DE UM PÓRTICO PLANO À UMA CARGA DE IMPACTO"
   ]
  },
  {
   "cell_type": "markdown",
   "metadata": {},
   "source": [
    "## Sumário\n",
    "\n",
    "[1.   INTRODUÇÃO](#section_1) \n",
    "\n",
    "[1.1.  Estrutura](#section_11)\n",
    "\n",
    "[2. CÁLCULO DOS 4° PRIMEIROS MODOS DE VIBRAÇÃO](#section_2)\n",
    "\n",
    "[3. CARGA DE IMPACTO](#section_3)\n",
    "\n",
    "[4. CARGA DE IMPACTO NA ESTRUTURA](#section_4)\n",
    "\n",
    "[5.   RESULTADOS E DISCUSSÃO](#section_5)\n",
    "\n",
    "[     REFERÊNCIAS](#section_6)"
   ]
  },
  {
   "cell_type": "markdown",
   "metadata": {},
   "source": [
    "## 1. INTRODUÇÃO <a name=\"section_1\"></a>\n",
    "\n",
    "Este trabalho analisa a resposta de um portico plano a um impacto. Assim, são calculados os quatro primeiros modos de vibração da estrutura, a amplitude máxima do deslocamento (u_max) no nó que recebe o impacto, os fatores de amortecimento e o gráfico do deslocamento (u(t)).  \n",
    "\n",
    "### 1.1. Estrutura <a name=\"section_11\"></a>\n",
    "\n",
    "A estrutura analisada é um portico plano com 36 metros de altura e base de 3 metros. A estrutura apresenta estas características para propositalmente apresentar frequência natural abaixo de 2 Hz. A estrutura foi modelada no programa Ftool com o objetivo de obter a matriz de rigidez da mesma. A estrutura é apresentada abaixo. \n",
    "\n",
    "<img src=\"portico.png\" alt=\"Estrutura analisada\" width=150 height=150>\n",
    "\n",
    "A estrutura apresenta 1 grau de liberdade por nó, utilizando o método dos deslocamentos, cada nó recebeu um deslocamento unitário e com esse porcesso foi calculada a matriz de rigidez ($\\mathbf{K}$) da estrutura. O método das forças também pode ser utilizado, mas como esse último processo é mais onoroso, foi utilizado o método dos deslocamentos.  \n",
    "Na portico, as lajes são modeladas para sofrerem deslocamento de corpo rígido. Cada pavimento apresenta massa estimada de 18000 kg. \n"
   ]
  },
  {
   "cell_type": "markdown",
   "metadata": {},
   "source": [
    "## 2. CÁLCULO DOS 4° PRIMEIROS MODOS DE VIBRAÇÃO <a name=\"section_2\"></a>\n",
    "\n",
    "Utilizando a matriz de rigidez ($\\mathbf{K}$) e a matriz de massas Lumped ($\\mathbf{M}$) do portico, foram calculados os autovalores e autovetores da estrutura. Para esse procedimento foi utilizado o algoritimo \"scipy.linalg.eig\". Nesse algoritmo, os autovalores são fornecidos em frequência angular ao quadrado.   "
   ]
  },
  {
   "cell_type": "code",
   "execution_count": 6,
   "metadata": {},
   "outputs": [
    {
     "name": "stdout",
     "output_type": "stream",
     "text": [
      "Matriz de Rigidez (K) [N/m] \n",
      " [[ 2962962.8 -2962962.8        0.         0.         0.         0.\n",
      "         0.         0.         0.         0.         0.         0. ]\n",
      " [-2962962.8  5925925.6 -2962962.8        0.         0.         0.\n",
      "         0.         0.         0.         0.         0.         0. ]\n",
      " [       0.  -2962962.8  5925925.6 -2962962.8        0.         0.\n",
      "         0.         0.         0.         0.         0.         0. ]\n",
      " [       0.         0.  -2962962.8  5925925.6 -2962962.8        0.\n",
      "         0.         0.         0.         0.         0.         0. ]\n",
      " [       0.         0.         0.  -2962962.8  5925925.6 -2962962.8\n",
      "         0.         0.         0.         0.         0.         0. ]\n",
      " [       0.         0.         0.         0.  -2962962.8  5925925.6\n",
      "  -2962962.8        0.         0.         0.         0.         0. ]\n",
      " [       0.         0.         0.         0.         0.  -2962962.8\n",
      "   5925925.6 -2962962.8        0.         0.         0.         0. ]\n",
      " [       0.         0.         0.         0.         0.         0.\n",
      "  -2962962.8  5925925.6 -2962962.8        0.         0.         0. ]\n",
      " [       0.         0.         0.         0.         0.         0.\n",
      "         0.  -2962962.8  5925925.6 -2962962.8        0.         0. ]\n",
      " [       0.         0.         0.         0.         0.         0.\n",
      "         0.         0.  -2962962.8  5925925.6 -2962962.8        0. ]\n",
      " [       0.         0.         0.         0.         0.         0.\n",
      "         0.         0.         0.  -2962962.8  5925925.6 -2962962.8]\n",
      " [       0.         0.         0.         0.         0.         0.\n",
      "         0.         0.         0.         0.  -2962962.8  5925925.6]]\n",
      "Matriz de Massa (M) [kg] \n",
      " [[18000.     0.     0.     0.     0.     0.     0.     0.     0.     0.\n",
      "      0.     0.]\n",
      " [    0. 18000.     0.     0.     0.     0.     0.     0.     0.     0.\n",
      "      0.     0.]\n",
      " [    0.     0. 18000.     0.     0.     0.     0.     0.     0.     0.\n",
      "      0.     0.]\n",
      " [    0.     0.     0. 18000.     0.     0.     0.     0.     0.     0.\n",
      "      0.     0.]\n",
      " [    0.     0.     0.     0. 18000.     0.     0.     0.     0.     0.\n",
      "      0.     0.]\n",
      " [    0.     0.     0.     0.     0. 18000.     0.     0.     0.     0.\n",
      "      0.     0.]\n",
      " [    0.     0.     0.     0.     0.     0. 18000.     0.     0.     0.\n",
      "      0.     0.]\n",
      " [    0.     0.     0.     0.     0.     0.     0. 18000.     0.     0.\n",
      "      0.     0.]\n",
      " [    0.     0.     0.     0.     0.     0.     0.     0. 18000.     0.\n",
      "      0.     0.]\n",
      " [    0.     0.     0.     0.     0.     0.     0.     0.     0. 18000.\n",
      "      0.     0.]\n",
      " [    0.     0.     0.     0.     0.     0.     0.     0.     0.     0.\n",
      "  18000.     0.]\n",
      " [    0.     0.     0.     0.     0.     0.     0.     0.     0.     0.\n",
      "      0. 18000.]]\n",
      "Frequências [Hz] \n",
      " [0.25643131 0.76524985 1.26199995 1.73884756 2.1882725  2.60318707\n",
      " 2.97704783 3.30395877 3.5787643  3.79713058 3.95561385 4.05171472]\n",
      "Autovetores [escala arbitrária]\n",
      " [[ 3.99210691e-01  3.92914900e-01  3.80422607e-01  3.61930821e-01\n",
      "   3.37731170e-01  3.08205297e-01  2.73818842e-01 -2.35114101e-01\n",
      "   1.92701470e-01 -1.47249821e-01 -9.94759549e-02  5.01332934e-02]\n",
      " [ 3.92914900e-01  3.37731170e-01  2.35114101e-01  9.94759549e-02\n",
      "  -5.01332934e-02 -1.92701470e-01 -3.08205297e-01  3.80422607e-01\n",
      "  -3.99210691e-01  3.61930821e-01  2.73818842e-01 -1.47249821e-01]\n",
      " [ 3.80422607e-01  2.35114101e-01 -6.47668859e-17 -2.35114101e-01\n",
      "  -3.80422607e-01 -3.80422607e-01 -2.35114101e-01  2.99455378e-17\n",
      "   2.35114101e-01 -3.80422607e-01 -3.80422607e-01  2.35114101e-01]\n",
      " [ 3.61930821e-01  9.94759549e-02 -2.35114101e-01 -3.99210691e-01\n",
      "  -2.73818842e-01  5.01332934e-02  3.37731170e-01 -3.80422607e-01\n",
      "   1.47249821e-01  1.92701470e-01  3.92914900e-01 -3.08205297e-01]\n",
      " [ 3.37731170e-01 -5.01332934e-02 -3.80422607e-01 -2.73818842e-01\n",
      "   1.47249821e-01  3.99210691e-01  1.92701470e-01  2.35114101e-01\n",
      "  -3.92914900e-01  9.94759549e-02 -3.08205297e-01  3.61930821e-01]\n",
      " [ 3.08205297e-01 -1.92701470e-01 -3.80422607e-01  5.01332934e-02\n",
      "   3.99210691e-01  9.94759549e-02 -3.61930821e-01  2.35114101e-01\n",
      "   2.73818842e-01 -3.37731170e-01  1.47249821e-01 -3.92914900e-01]\n",
      " [ 2.73818842e-01 -3.08205297e-01 -2.35114101e-01  3.37731170e-01\n",
      "   1.92701470e-01 -3.61930821e-01 -1.47249821e-01 -3.80422607e-01\n",
      "   9.94759549e-02  3.92914900e-01  5.01332934e-02  3.99210691e-01]\n",
      " [ 2.35114101e-01 -3.80422607e-01  1.07821502e-18  3.80422607e-01\n",
      "  -2.35114101e-01 -2.35114101e-01  3.80422607e-01  2.40031558e-16\n",
      "  -3.80422607e-01 -2.35114101e-01 -2.35114101e-01 -3.80422607e-01]\n",
      " [ 1.92701470e-01 -3.99210691e-01  2.35114101e-01  1.47249821e-01\n",
      "  -3.92914900e-01  2.73818842e-01  9.94759549e-02  3.80422607e-01\n",
      "   3.08205297e-01 -5.01332934e-02  3.61930821e-01  3.37731170e-01]\n",
      " [ 1.47249821e-01 -3.61930821e-01  3.80422607e-01 -1.92701470e-01\n",
      "  -9.94759549e-02  3.37731170e-01 -3.92914900e-01 -2.35114101e-01\n",
      "   5.01332934e-02  3.08205297e-01 -3.99210691e-01 -2.73818842e-01]\n",
      " [ 9.94759549e-02 -2.73818842e-01  3.80422607e-01 -3.92914900e-01\n",
      "   3.08205297e-01 -1.47249821e-01 -5.01332934e-02 -2.35114101e-01\n",
      "  -3.61930821e-01 -3.99210691e-01  3.37731170e-01  1.92701470e-01]\n",
      " [ 5.01332934e-02 -1.47249821e-01  2.35114101e-01 -3.08205297e-01\n",
      "   3.61930821e-01 -3.92914900e-01  3.99210691e-01  3.80422607e-01\n",
      "   3.37731170e-01  2.73818842e-01 -1.92701470e-01 -9.94759549e-02]]\n"
     ]
    }
   ],
   "source": [
    "import numpy as np\n",
    "import scipy.linalg as sc\n",
    "import matplotlib.pyplot as plt\n",
    "\n",
    "#matriz de rigidez da estrutura\n",
    "k1 = -2962962.8*np.eye(12, 12, -1)\n",
    "k2 = 5925925.6*np.eye(12, 12, 0)\n",
    "k3 = -2962962.8*np.eye(12, 12, 1)\n",
    "k4 = np.zeros((12, 12))\n",
    "k4 = k1+k2+k3 \n",
    "k4[0,0]=2962962.8\n",
    "print (\"Matriz de Rigidez (K) [N/m] \\n\",k4)\n",
    "\n",
    "#matriz de massa\n",
    "mt = 18000*np.eye(12)\n",
    "print (\"Matriz de Massa (M) [kg] \\n\",mt)\n",
    "\n",
    "# Calculando os autovalores e autovetores\n",
    "w2, Phi = sc.eig(k4, mt)\n",
    "\n",
    "iw   = w2.argsort()\n",
    "w2  = w2[iw]\n",
    "Phi = Phi[:,iw]\n",
    "\n",
    "# Autovalores para frequências\n",
    "wk3  = np.sqrt(np.real(w2)) \n",
    "fk3  = wk3/2/np.pi\n",
    "\n",
    "print (\"Frequências [Hz] \\n\",fk3)\n",
    "print (\"Autovetores [escala arbitrária]\\n\",Phi)"
   ]
  },
  {
   "cell_type": "markdown",
   "metadata": {},
   "source": [
    "Outro método que poderia ser utilizado para calcular os autovalores e autovetores é por meio ma matriz de dinâmica ($\\mathbf{D}$ = $\\mathbf{K}^{-1}$ $\\mathbf{M}$). Utilizando o algoritmo \"sc.eig($\\mathbf{D}$)\".\n",
    "Conforme solicitado no trabalho, são plotados os quatros primeiros modos de vibração. Normalmente os primeiros modos, dependendo do valor de sua frequência e da carga externa que a estrutura venha a sofrer, são os mais importantes em uma análise dinâmica. "
   ]
  },
  {
   "cell_type": "code",
   "execution_count": 7,
   "metadata": {},
   "outputs": [
    {
     "data": {
      "image/png": "[encoded data removed]",
      "text/plain": [
       "<Figure size 864x432 with 4 Axes>"
      ]
     },
     "metadata": {
      "needs_background": "light"
     },
     "output_type": "display_data"
    }
   ],
   "source": [
    "#Plotando os 4 primeiros modos \n",
    "plt.figure(1, figsize=(12,6))\n",
    "x = np.arange(13)\n",
    "\n",
    "for k in range(4):\n",
    "    pk = np.zeros(13)\n",
    "    pk[1:] = Phi[::-1,k]\n",
    "    \n",
    "    pk /= np.max(np.abs(pk))   # Normalizando (dividindo todos os valores pelo valor máximo)\n",
    "    \n",
    "    plt.subplot(1,4,k+1)\n",
    "    plt.plot(pk, x)\n",
    "    \n",
    "    plt.xlim(-1.5, 1.5);  plt.ylabel(str(k+1));\n",
    "    plt.ylim( 0.0, 14);\n",
    "    plt.text( 0.5, 2.0, 'fk = {0:3.1f}Hz'.format(fk3[k]));\n",
    "    plt.grid(True)"
   ]
  },
  {
   "cell_type": "markdown",
   "metadata": {},
   "source": [
    "Percebemos que o primeiro modo apresenta amplitude máxima no seu topo, local onde neste trabalho é aplicada a carga de impulso. A frequência natural da estrutura apresenta valor de 0.25643131 Hz. A amplitude dos modos foram normalizadas."
   ]
  },
  {
   "cell_type": "markdown",
   "metadata": {},
   "source": [
    "## 3. CARGA DE IMPACTO <a name=\"section_3\"></a>\n",
    "\n",
    "Uma carga de impacto de 10.000 N é aplicada no ponto 1 da estrutura (ver figura do portico). Seu tempo de duração do impacto (td) é propositalmente adotado em função da maior frequência da estrutura analisada. Assim, na prática a estrutura apresenta uma velocidade inicial (vo) em um ponto, no caso, o ponto 1. Nos demais, a velocidade inicial é considerada zero. A velocidade inicial da estrutura pode ser calculada pela fórmula:\n",
    "$$ vo = \\frac{Fa} {m} \\, td \\, $$"
   ]
  },
  {
   "cell_type": "code",
   "execution_count": 8,
   "metadata": {},
   "outputs": [
    {
     "name": "stdout",
     "output_type": "stream",
     "text": [
      "Maior frequência da estrutura [Hz] \n",
      " 4.051714721225485\n",
      "Duração do impacto [s] \n",
      " 0.061702271063246224\n",
      "Velocidade inicial da estrutura [m/s] \n",
      " 0.03427903947958123\n",
      "Vetor velocidade (velocidade em cada nó) [m/s] \n",
      " [0.03427903947958123, 0, 0, 0, 0, 0, 0, 0, 0, 0, 0, 0]\n"
     ]
    }
   ],
   "source": [
    "fmax = np.max(fk3) #frequência máxima\n",
    "print (\"Maior frequência da estrutura [Hz] \\n\", fmax)\n",
    "Fa = 10000 # Força aplicada\n",
    "Tn = 1/fmax #Período\n",
    "td = Tn/4 #Tempo de aplicação da carga\n",
    "print(\"Duração do impacto [s] \\n\", td)\n",
    "m = 18000 #massa do pavimento de aplicação do impacto\n",
    "vo = Fa*td/m #velocidade inicial do pórtico\n",
    "print(\"Velocidade inicial da estrutura [m/s] \\n\",vo)\n",
    "vo_v = [vo, 0, 0, 0, 0, 0, 0, 0, 0, 0, 0, 0]\n",
    "print(\"Vetor velocidade (velocidade em cada nó) [m/s] \\n\",vo_v)\n",
    "uo_v = np.zeros(12)"
   ]
  },
  {
   "cell_type": "markdown",
   "metadata": {},
   "source": [
    "## 4. CARGA DE IMPACTO NA ESTRUTURA <a name=\"section_4\"></a>\n",
    "\n",
    "Neste trabalho uma carga de impacto atinge a estrutura no nó 1. Para o cálculo da resposta da estrutura temos.\n",
    "A massa modal pode ser calculado por:\n",
    "\n",
    "$$ \\vec{\\varphi^t}_k\\, \\mathbf{M}\\, \\vec{\\varphi}_k\\  = \\mathbf{M_k}\\ $$\n",
    "\n",
    "A aceleração e o deslocamento são:\n",
    "\n",
    "$$ \\ddot{\\vec{u}}(t) = -\\omega_k^2 u_{k0} \\sin \\left( \\omega_k t + \\theta_k \\right) \\, \\vec{\\varphi}_k $$\n",
    "\n",
    "$$ \\vec{u}(t) = -\\omega_k^2 u_{k0} \\cos \\left( \\omega_k t + \\theta_k \\right) \\, \\vec{\\varphi}_k $$\n",
    "\n",
    "O deslocamento pode ser calculado por:\n",
    "\n",
    "$$ \\vec{u}(t) = \\ u_{kmax} \\cos \\left( \\omega_k t - \\theta_k \\right) \\, \\vec{\\varphi}_k $$\n",
    "\n",
    "E a amplitude pode ser calculada com:\n",
    "\n",
    "$$ \\vec{\\varphi}_i\\, \\mathbf{M}\\, \\vec{V}_o\\ = -\\ u_{imax} \\omega_i\\ \\sin \\left( - \\theta_i \\right) \\, M_i $$\n",
    "\n",
    "Calculando a resposta da estrutura a carga de impacto pela formulação abaixo, temos:"
   ]
  },
  {
   "cell_type": "code",
   "execution_count": 9,
   "metadata": {},
   "outputs": [
    {
     "name": "stdout",
     "output_type": "stream",
     "text": [
      "Amplitude no nó: 1  =  0.010278957979768253\n",
      "Amplitude no nó: 2  =  0.009380609410240315\n",
      "Amplitude no nó: 3  =  0.003905309835420475\n",
      "Amplitude no nó: 4  =  0.0034671125592757443\n",
      "Amplitude no nó: 5  =  0.0012388534114490637\n",
      "Amplitude no nó: 6  =  0.0010452689312687399\n",
      "Amplitude no nó: 7  =  0.0012647114853231484\n",
      "Amplitude no nó: 8  =  0.0004984473015382905\n",
      "Amplitude no nó: 9  =  0.0006623159638036049\n",
      "Amplitude no nó: 10  =  0.0005556975704979408\n",
      "Amplitude no nó: 11  =  0.0004004897487661271\n",
      "Amplitude no nó: 12  =  0.00013880326696931585\n",
      "Valor máximo de u nó 1: 0.008633662277017305\n"
     ]
    },
    {
     "data": {
      "image/png": "[encoded data removed]",
      "text/plain": [
       "<Figure size 864x432 with 1 Axes>"
      ]
     },
     "metadata": {
      "needs_background": "light"
     },
     "output_type": "display_data"
    }
   ],
   "source": [
    "Phit = Phi.transpose()\n",
    "xi = np.pi/2 #Fase (pi/2) para todos, pois é o maior valor do seno.\n",
    "UMAX = np.zeros(12)\n",
    "\n",
    "for k in range(12):\n",
    "\n",
    "    Mi = np.dot(np.dot(Phit[k], mt),Phi[k]) # massa modal\n",
    "    umax = (np.dot(np.dot(Phit[k], mt), vo_v))/(wk3[k]*np.sin(xi)*Mi)# Cálculo das amplitude máxima \n",
    "    UMAX[k] = umax\n",
    "    print(\"Amplitude no nó:\", k+1, ' = ' , UMAX[k]) \n",
    "    \n",
    "t = np.linspace(0,10,1000)\n",
    "uk = np.zeros((12, 1000))\n",
    "\n",
    "for k in range(12):\n",
    "    uk[k,:] = UMAX[k]*np.cos(-wk3[k]*t - np.pi/2) \n",
    "u = np.dot(Phi, uk)\n",
    "print(\"Valor máximo de u nó 1:\", max(u[0,:]))\n",
    "plt.figure(2,figsize=(12,6))\n",
    "plt.plot(t,u[0,:]) # Plotando para o nó 1 (nó de aplicação do impulso)\n",
    "plt.xlim(0.0,10); plt.xlabel(\"t\");\n",
    "plt.ylim(-0.02,0.02); plt.ylabel(\"u(t)\"); \n",
    "plt.grid(True)"
   ]
  },
  {
   "cell_type": "markdown",
   "metadata": {},
   "source": [
    "O gráfico representa o deslocamento do nó 1 após o impacto da carga de 10.000 N.\n",
    "A partir de dois fatores de amortecimento e duas frequências angulares, podemos calcular os demais fatores, conforme cálculo a seguir:\n",
    "\n",
    "<img src=\"amortecimento.png\" alt=\"Estrutura analisada\" width=300 height=300>"
   ]
  },
  {
   "cell_type": "code",
   "execution_count": 10,
   "metadata": {},
   "outputs": [
    {
     "name": "stdout",
     "output_type": "stream",
     "text": [
      "Fatores de amortecimento: \n",
      " [0.01       0.01       0.00984229 0.01519787 0.01997087 0.02426267\n",
      " 0.02807475 0.03137976 0.03414311 0.03633133 0.03791596 0.03887557]\n"
     ]
    }
   ],
   "source": [
    "zeta = np.zeros(12)\n",
    "zeta[0] = 0.01\n",
    "zeta[1] = 0.01\n",
    "alfa1 = 2*(zeta[0]*wk3[0]-zeta[1]*wk3[1])/(wk3[0]**2-wk3[1]**2)\n",
    "alfa0 = 2*zeta[0]*wk3[0]-alfa1*wk3[1]**2\n",
    "\n",
    "for k in range(10):\n",
    "    zeta[k+2] = (alfa0/(2*wk3[k+2]))+(alfa1*wk3[k+2]/2)\n",
    "print(\"Fatores de amortecimento: \\n\", zeta)"
   ]
  },
  {
   "cell_type": "markdown",
   "metadata": {},
   "source": [
    "O valor dos fatores de amortecimento vão reduzindo conforme a frequência angular cresce."
   ]
  },
  {
   "cell_type": "markdown",
   "metadata": {},
   "source": [
    "## 5. RESULTADOS E DISCUSSÃO <a name=\"section_5\"></a>\n",
    "\n",
    "Inicialmente modelamos o portico plano no Ftool com o objetivo de calcular a matriz de rigidez. Com esta e a matriz de massa é possível calcular os autovalores e autovetores da estrutura. A frequência nautral da estrutura ficou abixo de 2 Hz, como esperado. O primeiro modo de vibração combina com a aplicação da carga de impulso adotada neste trabalho. Com os autovetores e autovalores é possível calcular a resposta da estrutura à carga de impacto e calcular os fatores de amortecimento. "
   ]
  },
  {
   "cell_type": "markdown",
   "metadata": {},
   "source": [
    "## REFERÊNCIAS <a name=\"section_6\"></a>\n",
    "\n",
    "Notas de aula do professor [Marcelo Rocha](https://nbviewer.jupyter.org/github/mmaiarocha/PEC00025/blob/master/resources/Class_05_NumericalIntegration.ipynb?flushcache=true). "
   ]
  }
 ],
 "metadata": {
  "kernelspec": {
   "display_name": "Python 3",
   "language": "python",
   "name": "python3"
  },
  "language_info": {
   "codemirror_mode": {
    "name": "ipython",
    "version": 3
   },
   "file_extension": ".py",
   "mimetype": "text/x-python",
   "name": "python",
   "nbconvert_exporter": "python",
   "pygments_lexer": "ipython3",
   "version": "3.7.0"
  }
 },
 "nbformat": 4,
 "nbformat_minor": 2
}
