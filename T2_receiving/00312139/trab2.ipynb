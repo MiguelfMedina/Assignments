{
 "cells": [
  {
   "cell_type": "markdown",
   "metadata": {},
   "source": [
    "Universidade Federal do Rio Grande do Sul (UFRGS)   \n",
    "Programa de Pós-Graduação em Engenharia Civil (PPGEC)   \n",
    "\n",
    "# PEC00025: Introdução à Teoria das Vibrações\n",
    "\n",
    "\n",
    "### Trabalho 02 - Resposta de uma estrutura com múltiplos graus de liberdade\n",
    "\n",
    "---\n",
    "_Caio César Dias Matos, Mestrando em Estruturas - UFRGS_ \n",
    "\n",
    "_ID: 00312139_ \n",
    "\n",
    "_Porto Alegre, RS, Brasil_ \n"
   ]
  },
  {
   "cell_type": "code",
   "execution_count": 3,
   "metadata": {},
   "outputs": [],
   "source": [
    "# Importing Python modules required for this notebook\n",
    "# (this cell must be executed with \"shift+enter\" before any other Python cell)\n",
    "\n",
    "import numpy as np\n",
    "import pandas as pd\n",
    "import matplotlib.pyplot as plt\n",
    "import scipy.linalg as sp\n",
    "\n",
    "from MRPy import MRPy\n"
   ]
  },
  {
   "cell_type": "markdown",
   "metadata": {},
   "source": [
    "## Metodologia <a name=\"section_1\"></a> \n",
    "\n",
    "Para o tipo de análise solicitada, realizou-se a construção de um modelo estrutural capaz de fornecer os dados necessários para a montagem do estudo. Dessa forma, com o auxílio do software Ftool, montou-se uma viga treliçada em aço ($E = 205000 MPa$, $ \\rho = 7860 kg/m^{3}$) com as dimensões e perfil mostrados nas figuras a seguir. \n",
    "\n",
    "<img src=\"trab2data/trab20.jpg\" alt=\"SDOF system\" width=\"120px\"/>\n",
    "\n",
    "<img src=\"trab2data/trab21.jpg\" alt=\"SDOF system\" width=\"1020px\"/>\n",
    "\n",
    "\n",
    "A estrutura foi projetada propositalmente com 10 nós internos, excluindo os nós dos apoios, para essa análise. Com isso, em cada nó foi aplicada uma força de $1 kN$ e os deslocamentos gerados por essa ação foram registrados em forma de matriz, a matriz de flexibilidade que será a base do estudo apresentado. \n",
    "\n",
    "<img src=\"trab2data/trab22.jpg\" alt=\"SDOF system\" width=\"1020px\"/>\n",
    "\n",
    "<img src=\"trab2data/trab23.jpg\" alt=\"SDOF system\" width=\"1020px\"/>\n",
    "\n"
   ]
  },
  {
   "cell_type": "markdown",
   "metadata": {},
   "source": [
    "## Análise dos dados e Resultados <a name=\"section_2\"></a> \n",
    "\n",
    "Primeiro, é definida e inserida a matriz de flexibilidade do problema. A matriz é obtida, como explicado anteriormente, pela captura dos deslocamentos de todos os nós selecionados após a ação de uma força unitária. Tem-se então:\n"
   ]
  },
  {
   "cell_type": "code",
   "execution_count": 4,
   "metadata": {},
   "outputs": [],
   "source": [
    "#Matriz H retirada do modelo no Ftool\n",
    "\n",
    "H = np.array([[1.18E-05,1.63E-05,1.90E-05,2.02E-05,2.00E-05,1.86E-05,1.61E-05,1.28E-05,8.90E-06,4.60E-06],\n",
    "[1.63E-05,2.99E-05,3.57E-05,3.82E-05,3.81E-05,3.57E-05,3.10E-05,2.47E-05,1.72E-05,8.90E-06],\n",
    "[1.90E-05,3.57E-05,4.91E-05,5.34E-05,5.39E-05,5.07E-05,4.43E-05,3.54E-05,2.47E-05,1.28E-05],\n",
    "[2.02E-05,3.82E-05,5.34E-05,6.45E-05,6.60E-05,6.28E-05,5.51E-05,4.43E-05,3.10E-05,1.61E-05],\n",
    "[2.00E-05,3.81E-05,5.39E-05,6.60E-05,7.39E-05,7.03E-05,6.28E-05,5.07E-05,3.57E-05,1.86E-05],\n",
    "[1.86E-05,3.57E-05,5.07E-05,6.28E-05,7.03E-05,7.39E-05,6.60E-05,5.39E-05,3.81E-05,2.00E-05],\n",
    "[1.61E-05,3.10E-05,4.43E-05,5.51E-05,6.28E-05,6.60E-05,6.45E-05,5.34E-05,3.82E-05,2.02E-05],\n",
    "[1.28E-05,2.47E-05,3.54E-05,4.43E-05,5.07E-05,5.39E-05,5.34E-05,4.91E-05,3.57E-05,1.90E-05],\n",
    "[8.90E-06,1.72E-05,2.47E-05,3.10E-05,3.57E-05,3.81E-05,3.82E-05,3.57E-05,2.99E-05,1.63E-05],\n",
    "[4.60E-06,8.90E-06,1.28E-05,1.61E-05,1.86E-05,2.00E-05,2.02E-05,1.90E-05,1.63E-05,1.18E-05]])\n"
   ]
  },
  {
   "cell_type": "markdown",
   "metadata": {},
   "source": [
    "Logo após segue-se para a montagem da matriz de massa concentrada. Essa matriz terá por característica a diagonal principal definida e os demais termos nulos. Cada valor da diagonal principal representará a massa de cada nó analisado, dessa forma:"
   ]
  },
  {
   "cell_type": "code",
   "execution_count": 5,
   "metadata": {},
   "outputs": [],
   "source": [
    "#Montagem da matriz de massa\n",
    "\n",
    "s=np.shape(H)\n",
    "M=np.array(np.zeros(s));\n",
    "m=752; #Massa estimada para o modelo por nó analisado\n",
    "o=np.int(np.sqrt(np.size(H)))\n",
    "for i in range(0, o):\n",
    "    M [i,i] = m\n"
   ]
  },
  {
   "cell_type": "markdown",
   "metadata": {},
   "source": [
    "O próximo passo é calcular os autovalores e autovetores da matriz dinâmica, resultante da multiplicação da matriz de flexibilidade pela matriz de massa concentrada. Além disso, calculam-se as frequências referentes a cada modo de vibração encontrado. Logo:"
   ]
  },
  {
   "cell_type": "code",
   "execution_count": 6,
   "metadata": {},
   "outputs": [],
   "source": [
    "#Cálculo dos autovalores e vetores da matriz dinâmica e vetor de frequência modal\n",
    "D = np.dot(H,M)\n",
    "w2,phi=sp.eig(D)\n",
    "\n",
    "#Ordenar autovalores e vetores\n",
    "iw   = w2.argsort()\n",
    "w2  = w2[iw]\n",
    "phi = phi[:,iw]\n",
    "\n",
    "fn = [ ]\n",
    "w=4*np.pi*np.pi\n",
    "for i in range(0, o):\n",
    "    fn.append(np.sqrt(1/(w*w2[i])))\n",
    "    "
   ]
  },
  {
   "cell_type": "markdown",
   "metadata": {},
   "source": [
    "Com isso, pode-se obter os primeiros 4 modos de vibração da estrutura e plotá-los."
   ]
  },
  {
   "cell_type": "code",
   "execution_count": 7,
   "metadata": {},
   "outputs": [
    {
     "data": {
      "image/png": "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
